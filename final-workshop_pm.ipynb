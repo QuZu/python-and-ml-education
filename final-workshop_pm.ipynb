{
 "cells": [
  {
   "cell_type": "markdown",
   "metadata": {},
   "source": [
    "# Workshop"
   ]
  },
  {
   "cell_type": "markdown",
   "metadata": {},
   "source": [
    "Veri setinin temel amacı, bir **PMSM**(sabit mıknatıslı senkron motor)'nin stator ve rotor sıcaklıklarını gerçek zamanlı olarak modelleyebilmektir. \n",
    "Elektrikli çekiş tahrikinin karmaşık yapısı nedeniyle, rotor sıcaklıkları için termal sensörlerle doğrudan ölçüm mümkün değildir ve hatta stator sıcaklıkları, sensör kesintisi ve hatta sadece bozulma durumunda bile yedekli modelleme olmadan düzgün bir şekilde yönetilemez. \n",
    "\n",
    "Tüm kayıtlar 2 Hz'de örneklenmiştir. Veri seti, birbirinden \"profil_id\" sütunuyla ayırt edilebilen birden fazla ölçüm oturumundan oluşur. Bir ölçüm oturumu yaklaşık bir ila altı saat arasındadır.\n",
    "\n",
    "Iq ve Id, armatür akımının fazör bileşenleridir. \n",
    "\n",
    "**Iq bileşeni**, üretilen armatür voltajıyla aynı fazdadır ve sabit mıknatıs alan kutupları arasındaki boşluğa ortalanmış bir manyetik akı üretir. \n",
    "\n",
    "**Id bileşeni** kalıcı mıknatıs kutuplarına odaklanan bir manyetik akı üretir.\n",
    "\n",
    "**PMSM:** permanent magnet synchronous motor (sabit mıknatıslı senkron motor)"
   ]
  },
  {
   "cell_type": "markdown",
   "metadata": {},
   "source": [
    "### Kolonlar ve Açıklamaları:\n",
    "\n",
    "- **ambient:** Statorun yakınına yerleştirilmiş bir termal sensör tarafından ölçülen ortam sıcaklığı.\n",
    "- **coolant:** Soğutucu sıcaklığı. Motor su soğutmalıdır. Çıkışta ölçüm alınır.\n",
    "- **u_d:** d-elemanın gerilimi\n",
    "- **u_q:** g-elemanın gerilimi\n",
    "- **motor_speed:** motor hızı\n",
    "- **torque:** Akımdan kaynaklanan tork\n",
    "- **i_d:** d-elemanın akımı\n",
    "- **i_q:** q-elemanın akımı\n",
    "- **pm:** kızılötesi termografi ünitesi ile ölçülen rotor sıcaklığını temsil eden sabit mıknatıs yüzey sıcaklığı\n",
    "- **stator_yoke:** Termal sensör ile ölçülen stator manşonu sıcaklığı"
   ]
  },
  {
   "cell_type": "markdown",
   "metadata": {},
   "source": [
    "### Tahmin edilecek hedefler (Targets):\n",
    " - stator_yoke\n",
    " - stator_winding\n",
    " - stator_tooth\n",
    " - pm\n",
    " \n",
    "### Bağımlı değikenler (Features):\n",
    "Kalan tüm kolonlar kullanıbilir Torque hariç.\n",
    "Tork, saha uygulamalarında güvenilir bir şekilde ölçülemeyen bir niceliktir, bu yüzden bu özellik bu görevde ihmal edilecektir.\n",
    "\n",
    "### Değerlendirme\n",
    "Mümkün olduğunda az hata değerine sahip iyi tahmin eden bir model geliştirmek.\n",
    "\n",
    "Seçilen hedef kolonun standart sapmasından daha düşük ortalama mutlak değer hatası geliştirmelisiniz"
   ]
  },
  {
   "cell_type": "code",
   "execution_count": 1,
   "metadata": {},
   "outputs": [],
   "source": [
    "import pandas as pd\n",
    "import seaborn as sns\n",
    "import matplotlib.pyplot as plt\n",
    "from sklearn.model_selection import train_test_split\n",
    "import numpy as np"
   ]
  },
  {
   "cell_type": "code",
   "execution_count": 2,
   "metadata": {},
   "outputs": [],
   "source": [
    "data = pd.read_csv(\"datasets/pmsm_temps.csv\")"
   ]
  },
  {
   "cell_type": "code",
   "execution_count": 3,
   "metadata": {},
   "outputs": [
    {
     "data": {
      "text/html": [
       "<div>\n",
       "<style scoped>\n",
       "    .dataframe tbody tr th:only-of-type {\n",
       "        vertical-align: middle;\n",
       "    }\n",
       "\n",
       "    .dataframe tbody tr th {\n",
       "        vertical-align: top;\n",
       "    }\n",
       "\n",
       "    .dataframe thead th {\n",
       "        text-align: right;\n",
       "    }\n",
       "</style>\n",
       "<table border=\"1\" class=\"dataframe\">\n",
       "  <thead>\n",
       "    <tr style=\"text-align: right;\">\n",
       "      <th></th>\n",
       "      <th>ambient</th>\n",
       "      <th>coolant</th>\n",
       "      <th>u_d</th>\n",
       "      <th>u_q</th>\n",
       "      <th>motor_speed</th>\n",
       "      <th>torque</th>\n",
       "      <th>i_d</th>\n",
       "      <th>i_q</th>\n",
       "      <th>pm</th>\n",
       "      <th>stator_yoke</th>\n",
       "      <th>stator_tooth</th>\n",
       "      <th>stator_winding</th>\n",
       "      <th>profile_id</th>\n",
       "    </tr>\n",
       "  </thead>\n",
       "  <tbody>\n",
       "    <tr>\n",
       "      <th>0</th>\n",
       "      <td>-0.752143</td>\n",
       "      <td>-1.118446</td>\n",
       "      <td>0.327935</td>\n",
       "      <td>-1.297858</td>\n",
       "      <td>-1.222428</td>\n",
       "      <td>-0.250182</td>\n",
       "      <td>1.029572</td>\n",
       "      <td>-0.245860</td>\n",
       "      <td>-2.522071</td>\n",
       "      <td>-1.831422</td>\n",
       "      <td>-2.066143</td>\n",
       "      <td>-2.018033</td>\n",
       "      <td>4</td>\n",
       "    </tr>\n",
       "    <tr>\n",
       "      <th>1</th>\n",
       "      <td>-0.771263</td>\n",
       "      <td>-1.117021</td>\n",
       "      <td>0.329665</td>\n",
       "      <td>-1.297686</td>\n",
       "      <td>-1.222429</td>\n",
       "      <td>-0.249133</td>\n",
       "      <td>1.029509</td>\n",
       "      <td>-0.245832</td>\n",
       "      <td>-2.522418</td>\n",
       "      <td>-1.830969</td>\n",
       "      <td>-2.064859</td>\n",
       "      <td>-2.017631</td>\n",
       "      <td>4</td>\n",
       "    </tr>\n",
       "    <tr>\n",
       "      <th>2</th>\n",
       "      <td>-0.782892</td>\n",
       "      <td>-1.116681</td>\n",
       "      <td>0.332771</td>\n",
       "      <td>-1.301822</td>\n",
       "      <td>-1.222428</td>\n",
       "      <td>-0.249431</td>\n",
       "      <td>1.029448</td>\n",
       "      <td>-0.245818</td>\n",
       "      <td>-2.522673</td>\n",
       "      <td>-1.830400</td>\n",
       "      <td>-2.064073</td>\n",
       "      <td>-2.017343</td>\n",
       "      <td>4</td>\n",
       "    </tr>\n",
       "    <tr>\n",
       "      <th>3</th>\n",
       "      <td>-0.780935</td>\n",
       "      <td>-1.116764</td>\n",
       "      <td>0.333700</td>\n",
       "      <td>-1.301852</td>\n",
       "      <td>-1.222430</td>\n",
       "      <td>-0.248636</td>\n",
       "      <td>1.032845</td>\n",
       "      <td>-0.246955</td>\n",
       "      <td>-2.521639</td>\n",
       "      <td>-1.830333</td>\n",
       "      <td>-2.063137</td>\n",
       "      <td>-2.017632</td>\n",
       "      <td>4</td>\n",
       "    </tr>\n",
       "    <tr>\n",
       "      <th>4</th>\n",
       "      <td>-0.774043</td>\n",
       "      <td>-1.116775</td>\n",
       "      <td>0.335206</td>\n",
       "      <td>-1.303118</td>\n",
       "      <td>-1.222429</td>\n",
       "      <td>-0.248701</td>\n",
       "      <td>1.031807</td>\n",
       "      <td>-0.246610</td>\n",
       "      <td>-2.521900</td>\n",
       "      <td>-1.830498</td>\n",
       "      <td>-2.062795</td>\n",
       "      <td>-2.018145</td>\n",
       "      <td>4</td>\n",
       "    </tr>\n",
       "  </tbody>\n",
       "</table>\n",
       "</div>"
      ],
      "text/plain": [
       "    ambient   coolant       u_d       u_q  motor_speed    torque       i_d  \\\n",
       "0 -0.752143 -1.118446  0.327935 -1.297858    -1.222428 -0.250182  1.029572   \n",
       "1 -0.771263 -1.117021  0.329665 -1.297686    -1.222429 -0.249133  1.029509   \n",
       "2 -0.782892 -1.116681  0.332771 -1.301822    -1.222428 -0.249431  1.029448   \n",
       "3 -0.780935 -1.116764  0.333700 -1.301852    -1.222430 -0.248636  1.032845   \n",
       "4 -0.774043 -1.116775  0.335206 -1.303118    -1.222429 -0.248701  1.031807   \n",
       "\n",
       "        i_q        pm  stator_yoke  stator_tooth  stator_winding  profile_id  \n",
       "0 -0.245860 -2.522071    -1.831422     -2.066143       -2.018033           4  \n",
       "1 -0.245832 -2.522418    -1.830969     -2.064859       -2.017631           4  \n",
       "2 -0.245818 -2.522673    -1.830400     -2.064073       -2.017343           4  \n",
       "3 -0.246955 -2.521639    -1.830333     -2.063137       -2.017632           4  \n",
       "4 -0.246610 -2.521900    -1.830498     -2.062795       -2.018145           4  "
      ]
     },
     "execution_count": 3,
     "metadata": {},
     "output_type": "execute_result"
    }
   ],
   "source": [
    "data.head()"
   ]
  },
  {
   "cell_type": "code",
   "execution_count": 4,
   "metadata": {},
   "outputs": [
    {
     "data": {
      "text/plain": [
       "20    43970\n",
       "4     33423\n",
       "Name: profile_id, dtype: int64"
      ]
     },
     "execution_count": 4,
     "metadata": {},
     "output_type": "execute_result"
    }
   ],
   "source": [
    "data[\"profile_id\"].value_counts()[:3]"
   ]
  },
  {
   "cell_type": "code",
   "execution_count": 5,
   "metadata": {},
   "outputs": [],
   "source": [
    "data_20 = data[data[\"profile_id\"] == 20]"
   ]
  },
  {
   "cell_type": "code",
   "execution_count": 6,
   "metadata": {},
   "outputs": [
    {
     "data": {
      "text/html": [
       "<div>\n",
       "<style scoped>\n",
       "    .dataframe tbody tr th:only-of-type {\n",
       "        vertical-align: middle;\n",
       "    }\n",
       "\n",
       "    .dataframe tbody tr th {\n",
       "        vertical-align: top;\n",
       "    }\n",
       "\n",
       "    .dataframe thead th {\n",
       "        text-align: right;\n",
       "    }\n",
       "</style>\n",
       "<table border=\"1\" class=\"dataframe\">\n",
       "  <thead>\n",
       "    <tr style=\"text-align: right;\">\n",
       "      <th></th>\n",
       "      <th>ambient</th>\n",
       "      <th>coolant</th>\n",
       "      <th>u_d</th>\n",
       "      <th>u_q</th>\n",
       "      <th>motor_speed</th>\n",
       "      <th>torque</th>\n",
       "      <th>i_d</th>\n",
       "      <th>i_q</th>\n",
       "      <th>pm</th>\n",
       "      <th>stator_yoke</th>\n",
       "      <th>stator_tooth</th>\n",
       "      <th>stator_winding</th>\n",
       "      <th>profile_id</th>\n",
       "    </tr>\n",
       "  </thead>\n",
       "  <tbody>\n",
       "    <tr>\n",
       "      <th>33423</th>\n",
       "      <td>-1.908649</td>\n",
       "      <td>-1.079592</td>\n",
       "      <td>0.323421</td>\n",
       "      <td>-1.294816</td>\n",
       "      <td>-1.222431</td>\n",
       "      <td>-0.242639</td>\n",
       "      <td>1.029656</td>\n",
       "      <td>-0.245912</td>\n",
       "      <td>-2.484866</td>\n",
       "      <td>-1.811525</td>\n",
       "      <td>-2.055589</td>\n",
       "      <td>-1.997400</td>\n",
       "      <td>20</td>\n",
       "    </tr>\n",
       "    <tr>\n",
       "      <th>33424</th>\n",
       "      <td>-1.945673</td>\n",
       "      <td>-1.079477</td>\n",
       "      <td>0.318831</td>\n",
       "      <td>-1.293665</td>\n",
       "      <td>-1.222432</td>\n",
       "      <td>-0.240214</td>\n",
       "      <td>1.029574</td>\n",
       "      <td>-0.245876</td>\n",
       "      <td>-2.484019</td>\n",
       "      <td>-1.811462</td>\n",
       "      <td>-2.055858</td>\n",
       "      <td>-1.996591</td>\n",
       "      <td>20</td>\n",
       "    </tr>\n",
       "    <tr>\n",
       "      <th>33425</th>\n",
       "      <td>-1.946597</td>\n",
       "      <td>-1.079168</td>\n",
       "      <td>0.319580</td>\n",
       "      <td>-1.297363</td>\n",
       "      <td>-1.222431</td>\n",
       "      <td>-0.239513</td>\n",
       "      <td>1.029505</td>\n",
       "      <td>-0.245856</td>\n",
       "      <td>-2.484323</td>\n",
       "      <td>-1.811073</td>\n",
       "      <td>-2.056149</td>\n",
       "      <td>-1.995407</td>\n",
       "      <td>20</td>\n",
       "    </tr>\n",
       "    <tr>\n",
       "      <th>33426</th>\n",
       "      <td>-1.947213</td>\n",
       "      <td>-1.077655</td>\n",
       "      <td>0.321388</td>\n",
       "      <td>-1.295731</td>\n",
       "      <td>-1.222431</td>\n",
       "      <td>-0.238094</td>\n",
       "      <td>1.033528</td>\n",
       "      <td>-0.247344</td>\n",
       "      <td>-2.484937</td>\n",
       "      <td>-1.811298</td>\n",
       "      <td>-2.056193</td>\n",
       "      <td>-1.995178</td>\n",
       "      <td>20</td>\n",
       "    </tr>\n",
       "    <tr>\n",
       "      <th>33427</th>\n",
       "      <td>-1.952527</td>\n",
       "      <td>-1.075799</td>\n",
       "      <td>0.321497</td>\n",
       "      <td>-1.298276</td>\n",
       "      <td>-1.222431</td>\n",
       "      <td>-0.237660</td>\n",
       "      <td>1.032298</td>\n",
       "      <td>-0.246866</td>\n",
       "      <td>-2.485552</td>\n",
       "      <td>-1.810891</td>\n",
       "      <td>-2.056976</td>\n",
       "      <td>-1.994601</td>\n",
       "      <td>20</td>\n",
       "    </tr>\n",
       "  </tbody>\n",
       "</table>\n",
       "</div>"
      ],
      "text/plain": [
       "        ambient   coolant       u_d       u_q  motor_speed    torque  \\\n",
       "33423 -1.908649 -1.079592  0.323421 -1.294816    -1.222431 -0.242639   \n",
       "33424 -1.945673 -1.079477  0.318831 -1.293665    -1.222432 -0.240214   \n",
       "33425 -1.946597 -1.079168  0.319580 -1.297363    -1.222431 -0.239513   \n",
       "33426 -1.947213 -1.077655  0.321388 -1.295731    -1.222431 -0.238094   \n",
       "33427 -1.952527 -1.075799  0.321497 -1.298276    -1.222431 -0.237660   \n",
       "\n",
       "            i_d       i_q        pm  stator_yoke  stator_tooth  \\\n",
       "33423  1.029656 -0.245912 -2.484866    -1.811525     -2.055589   \n",
       "33424  1.029574 -0.245876 -2.484019    -1.811462     -2.055858   \n",
       "33425  1.029505 -0.245856 -2.484323    -1.811073     -2.056149   \n",
       "33426  1.033528 -0.247344 -2.484937    -1.811298     -2.056193   \n",
       "33427  1.032298 -0.246866 -2.485552    -1.810891     -2.056976   \n",
       "\n",
       "       stator_winding  profile_id  \n",
       "33423       -1.997400          20  \n",
       "33424       -1.996591          20  \n",
       "33425       -1.995407          20  \n",
       "33426       -1.995178          20  \n",
       "33427       -1.994601          20  "
      ]
     },
     "execution_count": 6,
     "metadata": {},
     "output_type": "execute_result"
    }
   ],
   "source": [
    "data_20.head()"
   ]
  },
  {
   "cell_type": "code",
   "execution_count": 7,
   "metadata": {},
   "outputs": [],
   "source": [
    "drop_targets = [\"profile_id\", \"stator_yoke\", \"stator_winding\", \"stator_tooth\", \"torque\"]\n",
    "target = \"pm\""
   ]
  },
  {
   "cell_type": "code",
   "execution_count": 8,
   "metadata": {},
   "outputs": [
    {
     "data": {
      "text/html": [
       "<div>\n",
       "<style scoped>\n",
       "    .dataframe tbody tr th:only-of-type {\n",
       "        vertical-align: middle;\n",
       "    }\n",
       "\n",
       "    .dataframe tbody tr th {\n",
       "        vertical-align: top;\n",
       "    }\n",
       "\n",
       "    .dataframe thead th {\n",
       "        text-align: right;\n",
       "    }\n",
       "</style>\n",
       "<table border=\"1\" class=\"dataframe\">\n",
       "  <thead>\n",
       "    <tr style=\"text-align: right;\">\n",
       "      <th></th>\n",
       "      <th>ambient</th>\n",
       "      <th>coolant</th>\n",
       "      <th>u_d</th>\n",
       "      <th>u_q</th>\n",
       "      <th>motor_speed</th>\n",
       "      <th>i_d</th>\n",
       "      <th>i_q</th>\n",
       "      <th>pm</th>\n",
       "    </tr>\n",
       "  </thead>\n",
       "  <tbody>\n",
       "    <tr>\n",
       "      <th>0</th>\n",
       "      <td>-1.908649</td>\n",
       "      <td>-1.079592</td>\n",
       "      <td>0.323421</td>\n",
       "      <td>-1.294816</td>\n",
       "      <td>-1.222431</td>\n",
       "      <td>1.029656</td>\n",
       "      <td>-0.245912</td>\n",
       "      <td>-2.484866</td>\n",
       "    </tr>\n",
       "    <tr>\n",
       "      <th>1</th>\n",
       "      <td>-1.945673</td>\n",
       "      <td>-1.079477</td>\n",
       "      <td>0.318831</td>\n",
       "      <td>-1.293665</td>\n",
       "      <td>-1.222432</td>\n",
       "      <td>1.029574</td>\n",
       "      <td>-0.245876</td>\n",
       "      <td>-2.484019</td>\n",
       "    </tr>\n",
       "    <tr>\n",
       "      <th>2</th>\n",
       "      <td>-1.946597</td>\n",
       "      <td>-1.079168</td>\n",
       "      <td>0.319580</td>\n",
       "      <td>-1.297363</td>\n",
       "      <td>-1.222431</td>\n",
       "      <td>1.029505</td>\n",
       "      <td>-0.245856</td>\n",
       "      <td>-2.484323</td>\n",
       "    </tr>\n",
       "    <tr>\n",
       "      <th>3</th>\n",
       "      <td>-1.947213</td>\n",
       "      <td>-1.077655</td>\n",
       "      <td>0.321388</td>\n",
       "      <td>-1.295731</td>\n",
       "      <td>-1.222431</td>\n",
       "      <td>1.033528</td>\n",
       "      <td>-0.247344</td>\n",
       "      <td>-2.484937</td>\n",
       "    </tr>\n",
       "    <tr>\n",
       "      <th>4</th>\n",
       "      <td>-1.952527</td>\n",
       "      <td>-1.075799</td>\n",
       "      <td>0.321497</td>\n",
       "      <td>-1.298276</td>\n",
       "      <td>-1.222431</td>\n",
       "      <td>1.032298</td>\n",
       "      <td>-0.246866</td>\n",
       "      <td>-2.485552</td>\n",
       "    </tr>\n",
       "  </tbody>\n",
       "</table>\n",
       "</div>"
      ],
      "text/plain": [
       "    ambient   coolant       u_d       u_q  motor_speed       i_d       i_q  \\\n",
       "0 -1.908649 -1.079592  0.323421 -1.294816    -1.222431  1.029656 -0.245912   \n",
       "1 -1.945673 -1.079477  0.318831 -1.293665    -1.222432  1.029574 -0.245876   \n",
       "2 -1.946597 -1.079168  0.319580 -1.297363    -1.222431  1.029505 -0.245856   \n",
       "3 -1.947213 -1.077655  0.321388 -1.295731    -1.222431  1.033528 -0.247344   \n",
       "4 -1.952527 -1.075799  0.321497 -1.298276    -1.222431  1.032298 -0.246866   \n",
       "\n",
       "         pm  \n",
       "0 -2.484866  \n",
       "1 -2.484019  \n",
       "2 -2.484323  \n",
       "3 -2.484937  \n",
       "4 -2.485552  "
      ]
     },
     "execution_count": 8,
     "metadata": {},
     "output_type": "execute_result"
    }
   ],
   "source": [
    "data_20_reset = data_20.reset_index(drop=True)\n",
    "data_dropped = data_20_reset.drop(labels=drop_targets, axis=1)\n",
    "data_dropped.head()"
   ]
  },
  {
   "cell_type": "code",
   "execution_count": 9,
   "metadata": {},
   "outputs": [
    {
     "data": {
      "text/plain": [
       "(43970, 8)"
      ]
     },
     "execution_count": 9,
     "metadata": {},
     "output_type": "execute_result"
    }
   ],
   "source": [
    "data_dropped.shape"
   ]
  },
  {
   "cell_type": "code",
   "execution_count": 10,
   "metadata": {},
   "outputs": [],
   "source": [
    "corr = data_dropped.corr()"
   ]
  },
  {
   "cell_type": "code",
   "execution_count": 11,
   "metadata": {},
   "outputs": [
    {
     "data": {
      "text/plain": [
       "ambient        0.574095\n",
       "coolant        0.237368\n",
       "u_d           -0.580232\n",
       "u_q           -0.204726\n",
       "motor_speed    0.444886\n",
       "i_d           -0.615226\n",
       "i_q            0.219197\n",
       "pm             1.000000\n",
       "Name: pm, dtype: float64"
      ]
     },
     "execution_count": 11,
     "metadata": {},
     "output_type": "execute_result"
    }
   ],
   "source": [
    "corr[\"pm\"]"
   ]
  },
  {
   "cell_type": "code",
   "execution_count": 12,
   "metadata": {},
   "outputs": [
    {
     "data": {
      "text/plain": [
       "ambient        0.574095\n",
       "coolant        0.237368\n",
       "u_d            0.580232\n",
       "u_q            0.204726\n",
       "motor_speed    0.444886\n",
       "i_d            0.615226\n",
       "i_q            0.219197\n",
       "pm             1.000000\n",
       "Name: pm, dtype: float64"
      ]
     },
     "execution_count": 12,
     "metadata": {},
     "output_type": "execute_result"
    }
   ],
   "source": [
    "corr[\"pm\"].abs()"
   ]
  },
  {
   "cell_type": "code",
   "execution_count": 13,
   "metadata": {},
   "outputs": [
    {
     "data": {
      "text/plain": [
       "pm             1.000000\n",
       "i_d            0.615226\n",
       "u_d            0.580232\n",
       "ambient        0.574095\n",
       "motor_speed    0.444886\n",
       "coolant        0.237368\n",
       "i_q            0.219197\n",
       "u_q            0.204726\n",
       "Name: pm, dtype: float64"
      ]
     },
     "execution_count": 13,
     "metadata": {},
     "output_type": "execute_result"
    }
   ],
   "source": [
    "corr[\"pm\"].abs().sort_values(ascending=False)"
   ]
  },
  {
   "cell_type": "code",
   "execution_count": 14,
   "metadata": {},
   "outputs": [
    {
     "data": {
      "text/plain": [
       "pm             1.000000\n",
       "i_d            0.615226\n",
       "u_d            0.580232\n",
       "ambient        0.574095\n",
       "motor_speed    0.444886\n",
       "coolant        0.237368\n",
       "i_q            0.219197\n",
       "u_q            0.204726\n",
       "Name: pm, dtype: float64"
      ]
     },
     "execution_count": 14,
     "metadata": {},
     "output_type": "execute_result"
    }
   ],
   "source": [
    "corr[\"pm\"].abs().sort_values(ascending=False)"
   ]
  },
  {
   "cell_type": "code",
   "execution_count": 15,
   "metadata": {},
   "outputs": [
    {
     "data": {
      "text/plain": [
       "['pm', 'i_d', 'u_d', 'ambient', 'motor_speed', 'coolant', 'i_q']"
      ]
     },
     "execution_count": 15,
     "metadata": {},
     "output_type": "execute_result"
    }
   ],
   "source": [
    "usefull_columns = list(corr[\"pm\"].abs().sort_values(ascending=False)[:7].index)\n",
    "usefull_columns"
   ]
  },
  {
   "cell_type": "code",
   "execution_count": 16,
   "metadata": {},
   "outputs": [
    {
     "data": {
      "text/html": [
       "<div>\n",
       "<style scoped>\n",
       "    .dataframe tbody tr th:only-of-type {\n",
       "        vertical-align: middle;\n",
       "    }\n",
       "\n",
       "    .dataframe tbody tr th {\n",
       "        vertical-align: top;\n",
       "    }\n",
       "\n",
       "    .dataframe thead th {\n",
       "        text-align: right;\n",
       "    }\n",
       "</style>\n",
       "<table border=\"1\" class=\"dataframe\">\n",
       "  <thead>\n",
       "    <tr style=\"text-align: right;\">\n",
       "      <th></th>\n",
       "      <th>pm</th>\n",
       "      <th>i_d</th>\n",
       "      <th>u_d</th>\n",
       "      <th>ambient</th>\n",
       "      <th>motor_speed</th>\n",
       "      <th>coolant</th>\n",
       "      <th>i_q</th>\n",
       "    </tr>\n",
       "  </thead>\n",
       "  <tbody>\n",
       "    <tr>\n",
       "      <th>0</th>\n",
       "      <td>-2.484866</td>\n",
       "      <td>1.029656</td>\n",
       "      <td>0.323421</td>\n",
       "      <td>-1.908649</td>\n",
       "      <td>-1.222431</td>\n",
       "      <td>-1.079592</td>\n",
       "      <td>-0.245912</td>\n",
       "    </tr>\n",
       "    <tr>\n",
       "      <th>1</th>\n",
       "      <td>-2.484019</td>\n",
       "      <td>1.029574</td>\n",
       "      <td>0.318831</td>\n",
       "      <td>-1.945673</td>\n",
       "      <td>-1.222432</td>\n",
       "      <td>-1.079477</td>\n",
       "      <td>-0.245876</td>\n",
       "    </tr>\n",
       "    <tr>\n",
       "      <th>2</th>\n",
       "      <td>-2.484323</td>\n",
       "      <td>1.029505</td>\n",
       "      <td>0.319580</td>\n",
       "      <td>-1.946597</td>\n",
       "      <td>-1.222431</td>\n",
       "      <td>-1.079168</td>\n",
       "      <td>-0.245856</td>\n",
       "    </tr>\n",
       "    <tr>\n",
       "      <th>3</th>\n",
       "      <td>-2.484937</td>\n",
       "      <td>1.033528</td>\n",
       "      <td>0.321388</td>\n",
       "      <td>-1.947213</td>\n",
       "      <td>-1.222431</td>\n",
       "      <td>-1.077655</td>\n",
       "      <td>-0.247344</td>\n",
       "    </tr>\n",
       "    <tr>\n",
       "      <th>4</th>\n",
       "      <td>-2.485552</td>\n",
       "      <td>1.032298</td>\n",
       "      <td>0.321497</td>\n",
       "      <td>-1.952527</td>\n",
       "      <td>-1.222431</td>\n",
       "      <td>-1.075799</td>\n",
       "      <td>-0.246866</td>\n",
       "    </tr>\n",
       "  </tbody>\n",
       "</table>\n",
       "</div>"
      ],
      "text/plain": [
       "         pm       i_d       u_d   ambient  motor_speed   coolant       i_q\n",
       "0 -2.484866  1.029656  0.323421 -1.908649    -1.222431 -1.079592 -0.245912\n",
       "1 -2.484019  1.029574  0.318831 -1.945673    -1.222432 -1.079477 -0.245876\n",
       "2 -2.484323  1.029505  0.319580 -1.946597    -1.222431 -1.079168 -0.245856\n",
       "3 -2.484937  1.033528  0.321388 -1.947213    -1.222431 -1.077655 -0.247344\n",
       "4 -2.485552  1.032298  0.321497 -1.952527    -1.222431 -1.075799 -0.246866"
      ]
     },
     "execution_count": 16,
     "metadata": {},
     "output_type": "execute_result"
    }
   ],
   "source": [
    "data_usefull = data_dropped[usefull_columns]\n",
    "data_usefull.head()"
   ]
  },
  {
   "cell_type": "code",
   "execution_count": 17,
   "metadata": {},
   "outputs": [],
   "source": [
    "corr_usefull = data_usefull.corr()"
   ]
  },
  {
   "cell_type": "code",
   "execution_count": 18,
   "metadata": {},
   "outputs": [
    {
     "data": {
      "text/html": [
       "<div>\n",
       "<style scoped>\n",
       "    .dataframe tbody tr th:only-of-type {\n",
       "        vertical-align: middle;\n",
       "    }\n",
       "\n",
       "    .dataframe tbody tr th {\n",
       "        vertical-align: top;\n",
       "    }\n",
       "\n",
       "    .dataframe thead th {\n",
       "        text-align: right;\n",
       "    }\n",
       "</style>\n",
       "<table border=\"1\" class=\"dataframe\">\n",
       "  <thead>\n",
       "    <tr style=\"text-align: right;\">\n",
       "      <th></th>\n",
       "      <th>pm</th>\n",
       "      <th>i_d</th>\n",
       "      <th>u_d</th>\n",
       "      <th>ambient</th>\n",
       "      <th>motor_speed</th>\n",
       "      <th>coolant</th>\n",
       "      <th>i_q</th>\n",
       "    </tr>\n",
       "  </thead>\n",
       "  <tbody>\n",
       "    <tr>\n",
       "      <th>pm</th>\n",
       "      <td>1.000000</td>\n",
       "      <td>-0.615226</td>\n",
       "      <td>-0.580232</td>\n",
       "      <td>0.574095</td>\n",
       "      <td>0.444886</td>\n",
       "      <td>0.237368</td>\n",
       "      <td>0.219197</td>\n",
       "    </tr>\n",
       "    <tr>\n",
       "      <th>i_d</th>\n",
       "      <td>-0.615226</td>\n",
       "      <td>1.000000</td>\n",
       "      <td>0.891190</td>\n",
       "      <td>-0.101042</td>\n",
       "      <td>-0.786186</td>\n",
       "      <td>0.126580</td>\n",
       "      <td>-0.342511</td>\n",
       "    </tr>\n",
       "    <tr>\n",
       "      <th>u_d</th>\n",
       "      <td>-0.580232</td>\n",
       "      <td>0.891190</td>\n",
       "      <td>1.000000</td>\n",
       "      <td>-0.116566</td>\n",
       "      <td>-0.662405</td>\n",
       "      <td>-0.001174</td>\n",
       "      <td>-0.532353</td>\n",
       "    </tr>\n",
       "    <tr>\n",
       "      <th>ambient</th>\n",
       "      <td>0.574095</td>\n",
       "      <td>-0.101042</td>\n",
       "      <td>-0.116566</td>\n",
       "      <td>1.000000</td>\n",
       "      <td>0.040813</td>\n",
       "      <td>0.732546</td>\n",
       "      <td>-0.032948</td>\n",
       "    </tr>\n",
       "    <tr>\n",
       "      <th>motor_speed</th>\n",
       "      <td>0.444886</td>\n",
       "      <td>-0.786186</td>\n",
       "      <td>-0.662405</td>\n",
       "      <td>0.040813</td>\n",
       "      <td>1.000000</td>\n",
       "      <td>-0.110457</td>\n",
       "      <td>-0.070917</td>\n",
       "    </tr>\n",
       "    <tr>\n",
       "      <th>coolant</th>\n",
       "      <td>0.237368</td>\n",
       "      <td>0.126580</td>\n",
       "      <td>-0.001174</td>\n",
       "      <td>0.732546</td>\n",
       "      <td>-0.110457</td>\n",
       "      <td>1.000000</td>\n",
       "      <td>-0.034647</td>\n",
       "    </tr>\n",
       "    <tr>\n",
       "      <th>i_q</th>\n",
       "      <td>0.219197</td>\n",
       "      <td>-0.342511</td>\n",
       "      <td>-0.532353</td>\n",
       "      <td>-0.032948</td>\n",
       "      <td>-0.070917</td>\n",
       "      <td>-0.034647</td>\n",
       "      <td>1.000000</td>\n",
       "    </tr>\n",
       "  </tbody>\n",
       "</table>\n",
       "</div>"
      ],
      "text/plain": [
       "                   pm       i_d       u_d   ambient  motor_speed   coolant  \\\n",
       "pm           1.000000 -0.615226 -0.580232  0.574095     0.444886  0.237368   \n",
       "i_d         -0.615226  1.000000  0.891190 -0.101042    -0.786186  0.126580   \n",
       "u_d         -0.580232  0.891190  1.000000 -0.116566    -0.662405 -0.001174   \n",
       "ambient      0.574095 -0.101042 -0.116566  1.000000     0.040813  0.732546   \n",
       "motor_speed  0.444886 -0.786186 -0.662405  0.040813     1.000000 -0.110457   \n",
       "coolant      0.237368  0.126580 -0.001174  0.732546    -0.110457  1.000000   \n",
       "i_q          0.219197 -0.342511 -0.532353 -0.032948    -0.070917 -0.034647   \n",
       "\n",
       "                  i_q  \n",
       "pm           0.219197  \n",
       "i_d         -0.342511  \n",
       "u_d         -0.532353  \n",
       "ambient     -0.032948  \n",
       "motor_speed -0.070917  \n",
       "coolant     -0.034647  \n",
       "i_q          1.000000  "
      ]
     },
     "execution_count": 18,
     "metadata": {},
     "output_type": "execute_result"
    }
   ],
   "source": [
    "corr_usefull"
   ]
  },
  {
   "cell_type": "code",
   "execution_count": 19,
   "metadata": {},
   "outputs": [
    {
     "data": {
      "text/plain": [
       "<AxesSubplot:>"
      ]
     },
     "execution_count": 19,
     "metadata": {},
     "output_type": "execute_result"
    },
    {
     "data": {
      "image/png": "[encoded data removed]",
      "text/plain": [
       "<Figure size 1080x1080 with 2 Axes>"
      ]
     },
     "metadata": {
      "needs_background": "light"
     },
     "output_type": "display_data"
    }
   ],
   "source": [
    "plt.figure(figsize=(15, 15))\n",
    "sns.heatmap(data=corr_usefull, vmax=1.0, vmin=-1.0, center=0, fmt='.2f',\n",
    "            square=True, linewidths=.5, annot=True)"
   ]
  },
  {
   "cell_type": "code",
   "execution_count": 20,
   "metadata": {},
   "outputs": [],
   "source": [
    "import xgboost as xgb"
   ]
  },
  {
   "cell_type": "code",
   "execution_count": 21,
   "metadata": {},
   "outputs": [],
   "source": [
    "y = data_usefull[[\"pm\"]]\n",
    "x = data_usefull.drop(labels=[\"pm\"], axis=1)\n",
    "\n",
    "x_train, x_test, y_train, y_test = train_test_split(x, y, train_size=0.95)"
   ]
  },
  {
   "cell_type": "code",
   "execution_count": 22,
   "metadata": {},
   "outputs": [
    {
     "name": "stdout",
     "output_type": "stream",
     "text": [
      "(41771, 6)\n",
      "(2199, 6)\n"
     ]
    }
   ],
   "source": [
    "print(x_train.shape)\n",
    "print(x_test.shape)"
   ]
  },
  {
   "cell_type": "code",
   "execution_count": 23,
   "metadata": {},
   "outputs": [],
   "source": [
    "model = xgb.XGBRegressor(objective ='reg:squarederror', \n",
    "                        n_estimators = 30, \n",
    "                        max_depth=10, \n",
    "                        learning_rate=0.6) \n",
    "\n",
    "model.fit(x_train, y_train)  \n",
    "pred = model.predict(x_test)"
   ]
  },
  {
   "cell_type": "code",
   "execution_count": 24,
   "metadata": {},
   "outputs": [
    {
     "name": "stdout",
     "output_type": "stream",
     "text": [
      "MSE:  0.0023929085798001263\n",
      "\n",
      "MAE:  0.027284355279179214\n",
      "STD:  pm    1.198202\n",
      "dtype: float64\n"
     ]
    }
   ],
   "source": [
    "from sklearn.metrics import mean_squared_error, mean_absolute_error\n",
    "\n",
    "print(\"MSE: \", mean_squared_error(y_test, pred))\n",
    "print()\n",
    "print(\"MAE: \", mean_absolute_error(y_test, pred))\n",
    "print(\"STD: \", y_test.std())"
   ]
  },
  {
   "cell_type": "code",
   "execution_count": 25,
   "metadata": {},
   "outputs": [],
   "source": [
    "results = pd.concat([pd.Series(y_test[\"pm\"].values), pd.Series(pred)], axis=1)\n",
    "results.columns = [\"y_true\", \"preds\"]\n",
    "results_sorted = results.sort_values(\"y_true\")\n",
    "results_reset = results_sorted.reset_index()"
   ]
  },
  {
   "cell_type": "code",
   "execution_count": 26,
   "metadata": {},
   "outputs": [
    {
     "data": {
      "text/html": [
       "<div>\n",
       "<style scoped>\n",
       "    .dataframe tbody tr th:only-of-type {\n",
       "        vertical-align: middle;\n",
       "    }\n",
       "\n",
       "    .dataframe tbody tr th {\n",
       "        vertical-align: top;\n",
       "    }\n",
       "\n",
       "    .dataframe thead th {\n",
       "        text-align: right;\n",
       "    }\n",
       "</style>\n",
       "<table border=\"1\" class=\"dataframe\">\n",
       "  <thead>\n",
       "    <tr style=\"text-align: right;\">\n",
       "      <th></th>\n",
       "      <th>index</th>\n",
       "      <th>y_true</th>\n",
       "      <th>preds</th>\n",
       "    </tr>\n",
       "  </thead>\n",
       "  <tbody>\n",
       "    <tr>\n",
       "      <th>0</th>\n",
       "      <td>639</td>\n",
       "      <td>-2.479409</td>\n",
       "      <td>-2.463423</td>\n",
       "    </tr>\n",
       "    <tr>\n",
       "      <th>1</th>\n",
       "      <td>1995</td>\n",
       "      <td>-2.446818</td>\n",
       "      <td>-2.427687</td>\n",
       "    </tr>\n",
       "    <tr>\n",
       "      <th>2</th>\n",
       "      <td>1272</td>\n",
       "      <td>-2.437738</td>\n",
       "      <td>-2.404782</td>\n",
       "    </tr>\n",
       "    <tr>\n",
       "      <th>3</th>\n",
       "      <td>621</td>\n",
       "      <td>-2.433499</td>\n",
       "      <td>-2.404782</td>\n",
       "    </tr>\n",
       "    <tr>\n",
       "      <th>4</th>\n",
       "      <td>2153</td>\n",
       "      <td>-2.426055</td>\n",
       "      <td>-2.417414</td>\n",
       "    </tr>\n",
       "  </tbody>\n",
       "</table>\n",
       "</div>"
      ],
      "text/plain": [
       "   index    y_true     preds\n",
       "0    639 -2.479409 -2.463423\n",
       "1   1995 -2.446818 -2.427687\n",
       "2   1272 -2.437738 -2.404782\n",
       "3    621 -2.433499 -2.404782\n",
       "4   2153 -2.426055 -2.417414"
      ]
     },
     "execution_count": 26,
     "metadata": {},
     "output_type": "execute_result"
    }
   ],
   "source": [
    "results_reset.head()"
   ]
  },
  {
   "cell_type": "code",
   "execution_count": 27,
   "metadata": {},
   "outputs": [
    {
     "data": {
      "text/plain": [
       "<matplotlib.legend.Legend at 0x146fc3850>"
      ]
     },
     "execution_count": 27,
     "metadata": {},
     "output_type": "execute_result"
    },
    {
     "data": {
      "image/png": "[encoded data removed]",
      "text/plain": [
       "<Figure size 1080x360 with 1 Axes>"
      ]
     },
     "metadata": {
      "needs_background": "light"
     },
     "output_type": "display_data"
    }
   ],
   "source": [
    "plt.figure(figsize=(15, 5))\n",
    "sns.lineplot(data=results_reset, y=\"preds\", x=results_reset.index, label=\"Preds\")\n",
    "sns.lineplot(data=results_reset, y=\"y_true\", x=results_reset.index, label=\"True\")\n",
    "plt.legend()"
   ]
  },
  {
   "cell_type": "code",
   "execution_count": 28,
   "metadata": {},
   "outputs": [
    {
     "data": {
      "text/plain": [
       "<BarContainer object of 6 artists>"
      ]
     },
     "execution_count": 28,
     "metadata": {},
     "output_type": "execute_result"
    },
    {
     "data": {
      "image/png": "[encoded data removed]",
      "text/plain": [
       "<Figure size 432x288 with 1 Axes>"
      ]
     },
     "metadata": {
      "needs_background": "light"
     },
     "output_type": "display_data"
    }
   ],
   "source": [
    "plt.barh(x_train.columns, model.feature_importances_)"
   ]
  },
  {
   "cell_type": "code",
   "execution_count": 29,
   "metadata": {},
   "outputs": [
    {
     "data": {
      "text/plain": [
       "array([3, 4, 5, 0, 2, 1])"
      ]
     },
     "execution_count": 29,
     "metadata": {},
     "output_type": "execute_result"
    }
   ],
   "source": [
    "sort_index = model.feature_importances_.argsort()\n",
    "sort_index"
   ]
  },
  {
   "cell_type": "code",
   "execution_count": 30,
   "metadata": {},
   "outputs": [
    {
     "data": {
      "text/plain": [
       "array([0.00254442, 0.0087898 , 0.03098504, 0.11175258, 0.34164956,\n",
       "       0.5042786 ], dtype=float32)"
      ]
     },
     "execution_count": 30,
     "metadata": {},
     "output_type": "execute_result"
    }
   ],
   "source": [
    "model.feature_importances_[sort_index]"
   ]
  },
  {
   "cell_type": "code",
   "execution_count": 31,
   "metadata": {},
   "outputs": [
    {
     "data": {
      "text/plain": [
       "<BarContainer object of 6 artists>"
      ]
     },
     "execution_count": 31,
     "metadata": {},
     "output_type": "execute_result"
    },
    {
     "data": {
      "image/png": "[encoded data removed]",
      "text/plain": [
       "<Figure size 432x288 with 1 Axes>"
      ]
     },
     "metadata": {
      "needs_background": "light"
     },
     "output_type": "display_data"
    }
   ],
   "source": [
    "plt.barh(x_train.columns[sort_index], model.feature_importances_[sort_index])"
   ]
  },
  {
   "cell_type": "code",
   "execution_count": null,
   "metadata": {},
   "outputs": [],
   "source": []
  }
 ],
 "metadata": {
  "kernelspec": {
   "display_name": "Python 3",
   "language": "python",
   "name": "python3"
  },
  "language_info": {
   "codemirror_mode": {
    "name": "ipython",
    "version": 3
   },
   "file_extension": ".py",
   "mimetype": "text/x-python",
   "name": "python",
   "nbconvert_exporter": "python",
   "pygments_lexer": "ipython3",
   "version": "3.9.1"
  }
 },
 "nbformat": 4,
 "nbformat_minor": 4
}
