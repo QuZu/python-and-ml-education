{
 "cells": [
  {
   "cell_type": "markdown",
   "metadata": {},
   "source": [
    "# Makine Öğrenmesi"
   ]
  },
  {
   "cell_type": "markdown",
   "metadata": {},
   "source": [
    "## 8.1 Makine Öğrenmesi Nedir?"
   ]
  },
  {
   "cell_type": "markdown",
   "metadata": {},
   "source": [
    "Makine Öğrenimi, bilgisayarların algoritmalar oluşturabildikleri ve sonunda kendilerine sağlanan verileri analiz ederek sorunları çözme becerilerini geliştirdikleri bilgisayar bilimi alanıdır. Bu, bilgisayarların insan müdahalesi olmadan görevleri yerine getirmesini sağlayan bir Yapay Zeka alt kümesi veya bölümüdür.\n",
    "\n",
    "> Makine öğrenimi (ML), deneyim yoluyla otomatik olarak gelişen bilgisayar algoritmaları üzerine yapılan çalışmadır. Yapay zekanın bir alt kümesi olarak görülüyor. Makine öğrenimi algoritmaları, açıkça programlanmadan tahminler veya kararlar almak için \"eğitim verileri\" olarak bilinen örnek verilere dayalı bir matematiksel model oluşturur. - Wikipedia"
   ]
  },
  {
   "cell_type": "markdown",
   "metadata": {},
   "source": [
    "## 8.2 Neden Makine Öğrenmesi?\n",
    "\n",
    "Phil Knight'ın ünlü bir sözü var - Nike'ın kurucusu\n",
    "\n",
    "> \"İnsanlara işleri nasıl yapacaklarını söylemeyin, onlara ne yapacaklarını söyleyin ve sonuçlarıyla sizi şaşırtmalarına izin verin.\"\n",
    "\n",
    "Bu alıntı, makine öğrenimini kullanmanın nedenlerini incelerken aklıma geldi.\n",
    "\n",
    "Yukarıdaki alıntıda 'insanlar'ı' bilgisayarlar 'ile değiştirirsek,\n",
    "\n",
    "> \"Bilgisayarlara işleri nasıl yapacaklarını söylemeyin, onlara ne yapacaklarını söyleyin ve sonuçlarıyla sizi şaşırtmalarına izin verin.\"\n",
    "\n",
    "Bence bu, makine öğreniminin neden yararlı ve bu kadar alakalı olduğunu hemen hemen özetliyor."
   ]
  },
  {
   "cell_type": "markdown",
   "metadata": {},
   "source": [
    "## 8.3 Makine Öğrenmesi Tipleri\n"
   ]
  },
  {
   "cell_type": "markdown",
   "metadata": {},
   "source": [
    "Makine Öğrenimi tamamen gelen verilere göre sonuçları tahmin etmekle ilgilidir. Makine Öğrenimi genel olarak aşağıdaki türler halinde sınıflandırılabilir:\n",
    "\n",
    "### Gözetimli (Supervised):\n",
    "Burada giriş veri seti bir nevi kategorize edilmiştir.\n",
    "\n",
    "- **Sınıflandırılmış (Classified)**: Sağlanan giriş verilerinde, makinenin bunları sınıflandırmalarına göre ayırmasına yardımcı olacak bir tür etiket vardır. Elma ve portakallardan oluşan böyle bir veri seti, elmaları ve portakalları segmentlere ayıracaktır.\n",
    "    \n",
    "- **Regresyon (Regression):** Hisse senedi fiyatlarının belirlenmesi gibi sonuçlar elde etmek için tekrar tekrar görev yapmak\n",
    "\n",
    "\n",
    "### Gözetimsiz (Unsupervised):\n",
    "Giriş verileri herhangi bir etiketle sınıflandırılmadığında, denetimsiz algoritmalar kullanılır\n",
    "\n",
    "- **Kümeleme (Clustering):** Verileri kümeleme veya gruplama\n",
    "- **İlişkilendirme Kural Öğrenimi (Association Rule Learning)**\n",
    "    \n",
    "    \n",
    "### Pekiştirmeli (Reinforcement):\n",
    "Genellikle Beceri edinme veya gerçek zamanlı öğrenme olarak da adlandırılır. Bunda, makine en iyi sonuç olasılıklarını belirlemek için deneme yanılma kullanır. Örneğin, bir bilgisayar en yüksek puanı almayı öğrenmek için kendisine milyon kez bir oyun oynamayı öğretebilir. "
   ]
  },
  {
   "cell_type": "markdown",
   "metadata": {},
   "source": [
    "## 8.4 Makine Öğrenmesinin Basit Adımları\n",
    "\n",
    "Genel olarak Makine Öğrenimi şu ana adımları içerir:\n",
    "\n",
    "- Bazı kaynaklardan verileri içe aktarma\n",
    "- Gerekirse ilgisiz verileri kaldırmak için verileri temizleme\n",
    "- Verilerin Eğitim Seti ve Test Setine bölünmesi.\n",
    "- Bir model veya bir algoritma veya bir işlev oluşturmak\n",
    "- Çıkışın kontrol edilmesi\n",
    "- Yukarıdaki adımları iyileştirin ve tekrarlayın"
   ]
  },
  {
   "cell_type": "markdown",
   "metadata": {},
   "source": [
    "## 8.4 Makine Öğrenmesi için Python\n",
    "\n",
    "Makine Öğrenimi veya aslında yapay zeka dilden bağımsızdır. Bununla birlikte Python, geniş topluluğu ve herkesin bu alanın olanaklarını keşfetmeye başlaması için sunulan topluluk tarafından oluşturulmuş araçların bolluğu nedeniyle Makine Öğrenimi uzmanları, veri bilimcileri ve büyük şirketler tarafından kullanılan popüler dillerden biridir.\n",
    "\n",
    "**Python temelde:**\n",
    "\n",
    "- Zengin bir kütüphane ekosistemi\n",
    "- Düşük bir giriş engeli - Önceden programlama deneyimi olmayan biri için anlaşılması kolay\n",
    "- Çok esnektir\n",
    "- Platformdan bağımsız mı\n",
    "- Okuması kolay\n",
    "- Büyük Topluluk"
   ]
  },
  {
   "cell_type": "markdown",
   "metadata": {},
   "source": [
    "## 8.5 Makine Öğrenmesi Araçları\n",
    "\n",
    "Makine Öğrenimi ve Veri Biliminin temellerini incelemek için keşfedeceğim araçlar şunlardır:\n",
    "\n",
    "- Jupyter Not Defterleri - Anaconda araç setinin bir parçası olarak gelir\n",
    "- Numpy Python ile bilimsel hesaplama için bir paket\n",
    "- Pandalar - Python ile veri analizi için bir kitaplık\n",
    "- Mathplotlib - Python ile görselleştirmeler oluşturmak için kütüphane\n",
    "- Scikit-learn - Python ile makine öğrenmesi modelleri kullanmak için kütüphane\n",
    "\n",
    "Birkaç başka araç da var, ancak mücadelenin son birkaç gününde çoğunlukla bunların temellerini gözden geçirirdim. Gelecekte Makine Öğrenimi hakkında daha fazlasını keşfederken Tensorflow gibi diğer araçları da keşfedeceğim."
   ]
  },
  {
   "cell_type": "markdown",
   "metadata": {},
   "source": [
    "## 8.6 Makine Öğrenmesi Metodları"
   ]
  },
  {
   "cell_type": "markdown",
   "metadata": {},
   "source": [
    "## Regresyon Nedir?\n",
    "\n",
    "Regresyon analizi, istatistik ve makine öğrenmesindeki en önemli alanlardan biridir. Mevcut birçok regresyon yöntemi vardır. Doğrusal regresyon bunlardan biridir.\n",
    "\n",
    "Regresyon, değişkenler arasındaki ilişkileri arar. Örneğin, bir şirketin birkaç çalışanını gözlemleyebilir ve maaşlarının deneyim, eğitim düzeyi, rol, çalıştıkları şehir gibi özelliklere nasıl bağlı olduğunu anlamaya çalışabilirsiniz."
   ]
  },
  {
   "cell_type": "markdown",
   "metadata": {},
   "source": [
    "### Lineer Regresyon\n",
    "\n",
    "Doğrusal regresyon, muhtemelen en önemli ve yaygın olarak kullanılan regresyon tekniklerinden biridir. En basit regresyon yöntemleri arasındadır. Başlıca avantajlarından biri, sonuçları yorumlama kolaylığıdır.\n",
    "\n",
    "Bağımsız değişkenler kümesi 𝐱 = (𝑥₁,…, 𝑥ᵣ) üzerinde bazı bağımlı değişkenlerin doğrusal regresyonunu uygularken, burada 𝑟 yordayıcı sayısıdır, 𝑦 ve 𝐱 arasında doğrusal bir ilişki varsayarsınız: 𝑦 = 𝛽₀ + 𝛽₁𝑥₁ + ⋯ + 𝛽ᵣ𝑥ᵣ + 𝜀. Bu denklem, regresyon denklemidir. 𝛽₀, 𝛽₁,…, 𝛽ᵣ regresyon katsayılarıdır ve 𝜀 rastgele hatadır."
   ]
  },
  {
   "cell_type": "markdown",
   "metadata": {},
   "source": [
    "### Basit Lineer Regresyon"
   ]
  },
  {
   "cell_type": "markdown",
   "metadata": {},
   "source": [
    "Basit veya tek değişkenli doğrusal regresyon, tek bir bağımsız değişken, 𝐱 = 𝑥 ile doğrusal regresyonun en basit halidir.\n",
    "\n",
    "![](assets/linear-regression.png)\n",
    "\n",
    "Tahmini regresyon fonksiyonu (kırmızı çizgi) 𝑓 (𝑥) = 𝑏₀ + 𝑏₁𝑥 denklemine sahiptir. Amacınız, kareli artıkların toplamını (SSR) en aza indiren ve tahmini regresyon fonksiyonunu belirleyen tahmini ağırlıkların 𝑏₀ ve 𝑏₁ optimal değerlerini hesaplamaktır."
   ]
  },
  {
   "cell_type": "markdown",
   "metadata": {},
   "source": [
    "## İçeri Aktarma"
   ]
  },
  {
   "cell_type": "code",
   "execution_count": 1,
   "metadata": {},
   "outputs": [],
   "source": [
    "import numpy as np\n",
    "import matplotlib.pyplot as plt\n",
    "\n",
    "from sklearn.linear_model import LinearRegression"
   ]
  },
  {
   "cell_type": "code",
   "execution_count": 2,
   "metadata": {},
   "outputs": [],
   "source": [
    "from sklearn.datasets import make_regression\n",
    "X, y = make_regression(n_samples=100, n_features=1, noise=5)"
   ]
  },
  {
   "cell_type": "code",
   "execution_count": 3,
   "metadata": {},
   "outputs": [
    {
     "data": {
      "text/plain": [
       "<matplotlib.collections.PathCollection at 0x144a0b610>"
      ]
     },
     "execution_count": 3,
     "metadata": {},
     "output_type": "execute_result"
    },
    {
     "data": {
      "image/png": "[encoded data removed]",
      "text/plain": [
       "<Figure size 432x288 with 1 Axes>"
      ]
     },
     "metadata": {
      "needs_background": "light"
     },
     "output_type": "display_data"
    }
   ],
   "source": [
    "plt.scatter(X, y)"
   ]
  },
  {
   "cell_type": "markdown",
   "metadata": {},
   "source": [
    "## Model yaratma"
   ]
  },
  {
   "cell_type": "code",
   "execution_count": 4,
   "metadata": {},
   "outputs": [],
   "source": [
    "model = LinearRegression()\n"
   ]
  },
  {
   "cell_type": "code",
   "execution_count": 5,
   "metadata": {
    "scrolled": true
   },
   "outputs": [
    {
     "data": {
      "text/plain": [
       "LinearRegression()"
      ]
     },
     "execution_count": 5,
     "metadata": {},
     "output_type": "execute_result"
    }
   ],
   "source": [
    "model.fit(X, y)\n"
   ]
  },
  {
   "cell_type": "markdown",
   "metadata": {},
   "source": [
    "##  Sopnuçları alma"
   ]
  },
  {
   "cell_type": "code",
   "execution_count": 6,
   "metadata": {},
   "outputs": [
    {
     "name": "stdout",
     "output_type": "stream",
     "text": [
      "coefficient of determination: 0.9916044127663529\n"
     ]
    }
   ],
   "source": [
    "r_sq = model.score(X, y)\n",
    "print('coefficient of determination:', r_sq)"
   ]
  },
  {
   "cell_type": "code",
   "execution_count": 7,
   "metadata": {},
   "outputs": [
    {
     "name": "stdout",
     "output_type": "stream",
     "text": [
      "intercept: 0.4018506825591177\n",
      "slope: [57.2844845]\n"
     ]
    }
   ],
   "source": [
    "print('intercept:', model.intercept_)\n",
    "print('slope:', model.coef_)"
   ]
  },
  {
   "cell_type": "markdown",
   "metadata": {},
   "source": [
    "## Tahmin"
   ]
  },
  {
   "cell_type": "code",
   "execution_count": 8,
   "metadata": {},
   "outputs": [
    {
     "name": "stdout",
     "output_type": "stream",
     "text": [
      "predicted response:\n",
      "[  34.11152739  -22.05361795   34.57130955  -43.59340617  -11.40414294\n",
      "  -32.41038782  -58.30278226  -66.03340691  -26.74523696   42.26526734\n",
      " -104.80797357   44.38741918   -6.66930754    5.47205625   55.54645266\n",
      "   88.99252886   11.42031735   34.1536662    47.47879007   36.27514256\n",
      "  -65.25299103   -3.35859795  -27.50849746  -75.92745263  120.61990175\n",
      "  -56.63304192   72.030718    -13.35981477 -132.52165749   47.13186544\n",
      "  -28.69235039   60.58739351  -40.74717382   89.43641327    2.27897116\n",
      "   31.1915431    24.4536008   -14.06943269   14.40841866  -30.67618209\n",
      "  -66.77792818   64.42959188  -16.02107829   77.67447472  -49.5514823\n",
      "   76.38622654   28.11806847   25.58226572   92.01479767   96.62585901\n",
      "  -12.41478906   43.40453982  -17.17984043  -14.42984348    3.99300604\n",
      "   -1.69174117   15.17854349   96.630711     36.20188395    6.12439346\n",
      "   30.51075124   58.52527651   58.17982667   18.61577157   24.09360133\n",
      "  -18.27468239  -57.32069747   83.78634792   37.54172179  -19.10708497\n",
      "  -43.16677536  -42.00263238   70.01277786  -40.56588832  -75.18482704\n",
      "   -6.76296932  -68.56230463   60.23042917  -12.20326405   40.98481806\n",
      "   22.37996062  -83.80445013  190.60476091   75.38124488   32.3011928\n",
      "  -72.26886622  -18.09408091   13.7259383   -15.80031749   -8.35388114\n",
      "  112.10472998   38.43407985  -14.82451868   81.95480713  -25.42256181\n",
      "  -80.18950264   -6.22944249   21.84783108   15.26636021  -34.66265545]\n"
     ]
    }
   ],
   "source": [
    "X_test, _ = make_regression(n_samples=100, n_features=1, noise=20)\n",
    "y_pred = model.predict(X_test)\n",
    "print('predicted response:', y_pred, sep='\\n')"
   ]
  },
  {
   "cell_type": "markdown",
   "metadata": {},
   "source": [
    "## Görselleştirme"
   ]
  },
  {
   "cell_type": "code",
   "execution_count": 9,
   "metadata": {},
   "outputs": [
    {
     "data": {
      "text/plain": [
       "<matplotlib.collections.PathCollection at 0x144b4b8b0>"
      ]
     },
     "execution_count": 9,
     "metadata": {},
     "output_type": "execute_result"
    },
    {
     "data": {
      "image/png": "[encoded data removed]",
      "text/plain": [
       "<Figure size 432x288 with 1 Axes>"
      ]
     },
     "metadata": {
      "needs_background": "light"
     },
     "output_type": "display_data"
    }
   ],
   "source": [
    "plt.scatter(X_test, y_pred)"
   ]
  },
  {
   "cell_type": "markdown",
   "metadata": {},
   "source": [
    "## Cost Function\n",
    "\n",
    "Verilen veriler için bir Makine Öğrenimi modelinin performansını ölçen bir işlevdir. Maliyet Fonksiyonu, tahmin edilen değerler ile beklenen değerler arasındaki hatayı gösterir ve bunu tek bir gerçek sayı şeklinde sunar."
   ]
  },
  {
   "cell_type": "code",
   "execution_count": 10,
   "metadata": {},
   "outputs": [],
   "source": [
    "def mse(predictions, targets):\n",
    "    samples_num = len(predictions)\n",
    "    accumulated_error = 0.0\n",
    "    for prediction, target in zip(predictions, targets):\n",
    "        accumulated_error += (prediction - target)**2\n",
    "       \n",
    "    mae_error = (1.0 / (2*samples_num)) * accumulated_error\n",
    "    \n",
    "    return mae_error"
   ]
  },
  {
   "cell_type": "code",
   "execution_count": 11,
   "metadata": {},
   "outputs": [
    {
     "data": {
      "text/plain": [
       "3307.8012459745187"
      ]
     },
     "execution_count": 11,
     "metadata": {},
     "output_type": "execute_result"
    }
   ],
   "source": [
    "mse(y_pred, y)"
   ]
  },
  {
   "cell_type": "code",
   "execution_count": 12,
   "metadata": {},
   "outputs": [],
   "source": [
    "from sklearn.metrics import mean_squared_error"
   ]
  },
  {
   "cell_type": "code",
   "execution_count": 13,
   "metadata": {},
   "outputs": [
    {
     "data": {
      "text/plain": [
       "6615.602491949037"
      ]
     },
     "execution_count": 13,
     "metadata": {},
     "output_type": "execute_result"
    }
   ],
   "source": [
    "mean_squared_error(y, y_pred)"
   ]
  },
  {
   "cell_type": "markdown",
   "metadata": {},
   "source": [
    "## Lojistik Regresyon\n",
    "\n",
    "Lojistik regresyon, temel bir sınıflandırma tekniğidir. Doğrusal sınıflandırıcılar grubuna aittir ve biraz polinom ve doğrusal regresyona benzer. Lojistik regresyon hızlıdır ve nispeten karmaşık değildir ve sonuçları yorumlamanız sizin için uygundur. Esasen ikili sınıflandırma için bir yöntem olmasına rağmen, çok sınıflı problemlere de uygulanabilir.\n",
    "\n",
    "Lojistik regresyonun ne olduğunu ve nasıl çalıştığını anlamak için sigmoid işlevini ve doğal logaritma işlevini anlamanız gerekir.\n",
    "\n",
    "Bu görüntü, bazı değişken 𝑥'nin sigmoid fonksiyonunu (veya S-şekilli eğri) gösterir:\n",
    "\n",
    "![](assets/logistic-regression.jpeg)\n",
    "\n",
    "\n",
    "Sigmoid işlevi, etki alanının çoğunda 0 veya 1'e çok yakın değerlere sahiptir. Bu gerçek onu sınıflandırma yöntemlerinde uygulamaya uygun hale getirir."
   ]
  },
  {
   "cell_type": "markdown",
   "metadata": {},
   "source": [
    "## Tek Değişkenli Lojistik Regresyon\n",
    "\n",
    "Tek değişkenli lojistik regresyon, lojistik regresyonun en basit halidir. 𝐱 = 𝑥 olan tek bir bağımsız değişken (veya özellik) vardır. Bu şekil, tek değişkenli lojistik regresyonu göstermektedir:\n",
    "\n",
    "![](assets/logistic-regression2.jpg)\n",
    "\n",
    "Burada, yeşil dairelerle temsil edilen belirli bir girdi-çıktı (veya 𝑥-𝑦) çifti kümesine sahipsiniz. Bunlar sizin gözlemlerinizdir. Unutmayın ki, 𝑦 sadece 0 veya 1 olabilir. Örneğin, en soldaki yeşil dairenin girişi 𝑥 = 0 ve gerçek çıktı 𝑦 = 0'dır. En sağdaki gözlem 𝑥 = 9 ve 𝑦 = 1'dir.\n",
    "\n",
    "Lojistik regresyon, maksimum LLF'ye karşılık gelen 𝑏₀ ve 𝑏₁ ağırlıklarını bulur. Bu ağırlıklar, kesikli siyah çizgi olan 𝑓 (𝑥) = 𝑏₀ + 𝑏₁𝑥 logitini tanımlar. Ayrıca burada tam siyah çizgi olarak gösterilen tahmin edilen olasılığı define (𝑥) = 1 / (1 + exp (−𝑓 (𝑥))) tanımlarlar. Bu durumda, 𝑝 (𝑥) = 0.5 ve 𝑓 (𝑥) = 0 eşiği, 𝑥'nin 3'ten biraz daha büyük değerine karşılık gelir. Bu değer, tahmin edilen çıkışlar 0 ve 1 olan girişler arasındaki sınırdır."
   ]
  },
  {
   "cell_type": "markdown",
   "metadata": {},
   "source": [
    "## Python ile"
   ]
  },
  {
   "cell_type": "code",
   "execution_count": 14,
   "metadata": {},
   "outputs": [],
   "source": [
    "import matplotlib.pyplot as plt\n",
    "import numpy as np\n",
    "from sklearn.linear_model import LogisticRegression"
   ]
  },
  {
   "cell_type": "code",
   "execution_count": 15,
   "metadata": {},
   "outputs": [],
   "source": [
    "x = np.arange(10).reshape(-1, 1)\n",
    "y = np.array([0, 0, 0, 0, 1, 1, 1, 1, 1, 1])"
   ]
  },
  {
   "cell_type": "code",
   "execution_count": 16,
   "metadata": {},
   "outputs": [
    {
     "data": {
      "text/plain": [
       "LogisticRegression()"
      ]
     },
     "execution_count": 16,
     "metadata": {},
     "output_type": "execute_result"
    }
   ],
   "source": [
    "model = LogisticRegression()\n",
    "model.fit(x, y)\n"
   ]
  },
  {
   "cell_type": "code",
   "execution_count": 17,
   "metadata": {},
   "outputs": [
    {
     "name": "stdout",
     "output_type": "stream",
     "text": [
      "Classes:  [0 1]\n",
      "Intercept:  [-4.12617727]\n",
      "Coef:  [[1.18109091]]\n"
     ]
    }
   ],
   "source": [
    "\n",
    "print(\"Classes: \", model.classes_)\n",
    "print(\"Intercept: \",model.intercept_)\n",
    "print(\"Coef: \",model.coef_)"
   ]
  },
  {
   "cell_type": "code",
   "execution_count": 18,
   "metadata": {},
   "outputs": [
    {
     "name": "stdout",
     "output_type": "stream",
     "text": [
      "Probability:  [[0.98411203 0.01588797]\n",
      " [0.95003074 0.04996926]\n",
      " [0.85370936 0.14629064]\n",
      " [0.64173546 0.35826454]\n",
      " [0.35475873 0.64524127]\n",
      " [0.1443924  0.8556076 ]\n",
      " [0.04924876 0.95075124]\n",
      " [0.01565079 0.98434921]\n",
      " [0.00485659 0.99514341]\n",
      " [0.00149573 0.99850427]]\n"
     ]
    }
   ],
   "source": [
    "print(\"Probability: \",model.predict_proba(x))\n"
   ]
  },
  {
   "cell_type": "code",
   "execution_count": 19,
   "metadata": {},
   "outputs": [
    {
     "data": {
      "text/plain": [
       "array([0, 0, 0, 0, 1, 1, 1, 1, 1, 1])"
      ]
     },
     "execution_count": 19,
     "metadata": {},
     "output_type": "execute_result"
    }
   ],
   "source": [
    "model.predict(x)\n"
   ]
  },
  {
   "cell_type": "code",
   "execution_count": 20,
   "metadata": {},
   "outputs": [],
   "source": [
    "from sklearn.metrics import classification_report, confusion_matrix"
   ]
  },
  {
   "cell_type": "code",
   "execution_count": 21,
   "metadata": {},
   "outputs": [
    {
     "data": {
      "text/plain": [
       "array([[4, 0],\n",
       "       [0, 6]])"
      ]
     },
     "execution_count": 21,
     "metadata": {},
     "output_type": "execute_result"
    }
   ],
   "source": [
    "confusion_matrix(y, model.predict(x))\n"
   ]
  },
  {
   "cell_type": "code",
   "execution_count": 22,
   "metadata": {},
   "outputs": [
    {
     "data": {
      "text/plain": [
       "<AxesSubplot:>"
      ]
     },
     "execution_count": 22,
     "metadata": {},
     "output_type": "execute_result"
    },
    {
     "data": {
      "image/png": "[encoded data removed]",
      "text/plain": [
       "<Figure size 432x288 with 2 Axes>"
      ]
     },
     "metadata": {
      "needs_background": "light"
     },
     "output_type": "display_data"
    }
   ],
   "source": [
    "import seaborn as sns\n",
    "\n",
    "cm = confusion_matrix(y, model.predict(x))\n",
    "sns.heatmap(cm, annot=True)"
   ]
  }
 ],
 "metadata": {
  "kernelspec": {
   "display_name": "Python 3",
   "language": "python",
   "name": "python3"
  },
  "language_info": {
   "codemirror_mode": {
    "name": "ipython",
    "version": 3
   },
   "file_extension": ".py",
   "mimetype": "text/x-python",
   "name": "python",
   "nbconvert_exporter": "python",
   "pygments_lexer": "ipython3",
   "version": "3.9.1"
  }
 },
 "nbformat": 4,
 "nbformat_minor": 4
}
