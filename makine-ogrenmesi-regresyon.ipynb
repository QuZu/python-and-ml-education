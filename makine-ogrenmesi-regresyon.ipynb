{
 "cells": [
  {
   "cell_type": "markdown",
   "metadata": {},
   "source": [
    "# Makine Öğrenmesi Metodları"
   ]
  },
  {
   "cell_type": "markdown",
   "metadata": {},
   "source": [
    "## 9.1 Regresyon Nedir?\n",
    "\n",
    "Regresyon analizi, istatistik ve makine öğrenmesindeki en önemli alanlardan biridir. Mevcut birçok regresyon yöntemi vardır. Doğrusal regresyon bunlardan biridir.\n",
    "\n",
    "Regresyon, değişkenler arasındaki ilişkileri arar. Örneğin, bir şirketin birkaç çalışanını gözlemleyebilir ve maaşlarının deneyim, eğitim düzeyi, rol, çalıştıkları şehir gibi özelliklere nasıl bağlı olduğunu anlamaya çalışabilirsiniz."
   ]
  },
  {
   "cell_type": "markdown",
   "metadata": {},
   "source": [
    "## 9.2 Lineer Regresyon\n",
    "\n",
    "Doğrusal regresyon, muhtemelen en önemli ve yaygın olarak kullanılan regresyon tekniklerinden biridir. En basit regresyon yöntemleri arasındadır. Başlıca avantajlarından biri, sonuçları yorumlama kolaylığıdır.\n",
    "\n",
    "Bağımsız değişkenler kümesi 𝐱 = (𝑥₁,…, 𝑥ᵣ) üzerinde bazı bağımlı değişkenlerin doğrusal regresyonunu uygularken, burada 𝑟 yordayıcı sayısıdır, 𝑦 ve 𝐱 arasında doğrusal bir ilişki varsayarsınız: 𝑦 = 𝛽₀ + 𝛽₁𝑥₁ + ⋯ + 𝛽ᵣ𝑥ᵣ + 𝜀. Bu denklem, regresyon denklemidir. 𝛽₀, 𝛽₁,…, 𝛽ᵣ regresyon katsayılarıdır ve 𝜀 rastgele hatadır."
   ]
  },
  {
   "cell_type": "markdown",
   "metadata": {},
   "source": [
    "### Basit Lineer Regresyon"
   ]
  },
  {
   "cell_type": "markdown",
   "metadata": {},
   "source": [
    "Basit veya tek değişkenli doğrusal regresyon, tek bir bağımsız değişkenle doğrusal regresyonun en basit halidir, 𝐱 = 𝑥.\n",
    "\n",
    "![](assets/linear-regression.png)\n",
    "\n",
    "Tahmini regresyon fonksiyonu (kırmızı çizgi) 𝑓 (𝑥) = 𝑏₀ + 𝑏₁𝑥 denklemine sahiptir. Amacınız, kareli artıkların toplamını (SSR) en aza indiren ve tahmini regresyon fonksiyonunu belirleyen tahmini ağırlıkların 𝑏₀ ve 𝑏₁ optimal değerlerini hesaplamaktır."
   ]
  },
  {
   "cell_type": "markdown",
   "metadata": {},
   "source": [
    "## İçeri Aktarma"
   ]
  },
  {
   "cell_type": "code",
   "execution_count": 1,
   "metadata": {},
   "outputs": [],
   "source": [
    "import numpy as np\n",
    "import matplotlib.pyplot as plt\n",
    "\n",
    "from sklearn.linear_model import LinearRegression"
   ]
  },
  {
   "cell_type": "code",
   "execution_count": 2,
   "metadata": {},
   "outputs": [],
   "source": [
    "from sklearn.datasets import make_regression\n",
    "X, y = make_regression(n_samples=100, n_features=1, noise=5)"
   ]
  },
  {
   "cell_type": "code",
   "execution_count": 3,
   "metadata": {},
   "outputs": [
    {
     "data": {
      "text/plain": [
       "<matplotlib.collections.PathCollection at 0x144b24610>"
      ]
     },
     "execution_count": 3,
     "metadata": {},
     "output_type": "execute_result"
    },
    {
     "data": {
      "image/png": "[encoded data removed]",
      "text/plain": [
       "<Figure size 432x288 with 1 Axes>"
      ]
     },
     "metadata": {
      "needs_background": "light"
     },
     "output_type": "display_data"
    }
   ],
   "source": [
    "plt.scatter(X, y)"
   ]
  },
  {
   "cell_type": "markdown",
   "metadata": {},
   "source": [
    "## Model yaratma"
   ]
  },
  {
   "cell_type": "code",
   "execution_count": 4,
   "metadata": {},
   "outputs": [
    {
     "data": {
      "text/plain": [
       "LinearRegression()"
      ]
     },
     "execution_count": 4,
     "metadata": {},
     "output_type": "execute_result"
    }
   ],
   "source": [
    "model = LinearRegression()\n",
    "model.fit(X, y)"
   ]
  },
  {
   "cell_type": "markdown",
   "metadata": {},
   "source": [
    "##  Sonuçları alma"
   ]
  },
  {
   "cell_type": "code",
   "execution_count": 20,
   "metadata": {},
   "outputs": [
    {
     "name": "stdout",
     "output_type": "stream",
     "text": [
      "coefficient of determination: 0.4695132985395599\n"
     ]
    }
   ],
   "source": [
    "r_sq = model.score(X, y)\n",
    "print('coefficient of determination:', r_sq)"
   ]
  },
  {
   "cell_type": "code",
   "execution_count": 21,
   "metadata": {},
   "outputs": [
    {
     "name": "stdout",
     "output_type": "stream",
     "text": [
      "intercept: 0.036574403976687986\n",
      "slope: [5.44409786]\n"
     ]
    }
   ],
   "source": [
    "print('intercept:', model.intercept_)\n",
    "print('slope:', model.coef_)"
   ]
  },
  {
   "cell_type": "markdown",
   "metadata": {},
   "source": [
    "## Tahmin"
   ]
  },
  {
   "cell_type": "code",
   "execution_count": 5,
   "metadata": {},
   "outputs": [],
   "source": [
    "X_test, _ = make_regression(n_samples=100, n_features=1, noise=20)\n",
    "y_pred = model.predict(X_test)"
   ]
  },
  {
   "cell_type": "code",
   "execution_count": 6,
   "metadata": {},
   "outputs": [
    {
     "name": "stdout",
     "output_type": "stream",
     "text": [
      "predicted response:\n",
      "[  93.30454052  -23.79399204  -66.33513763    2.77517377  -79.00545588\n",
      "  -40.91248411  129.38289482   36.05904683  -44.31110388  112.39371763\n",
      "  -63.55242366  -71.86029774  -38.62031159  -47.55912611  -90.40513804\n",
      "   -6.31860288  122.34306798 -161.0148302    27.04008304    9.7233292\n",
      " -123.04789018   44.91481711   55.44377719 -105.28418561  102.82453766\n",
      "   67.65112658   -4.47444675 -235.65987385  156.41679989  -53.32213838\n",
      " -178.49843967  -86.86014976   51.58375308 -160.53660937   20.05892006\n",
      "   88.04801716  -22.54272381   14.17337064   82.76164546  -68.64462516\n",
      "  -52.06474727   52.63018896   59.30307809   32.26933669  -99.2685576\n",
      "   43.65876767   67.51811518 -116.68239667 -140.94591214   72.54299121\n",
      "  -90.5267648  -100.39658611   82.59804672   58.02164152 -118.39849276\n",
      "  -34.30870271    1.1279068    -5.44202297  -67.6308882   -21.29049899\n",
      "  -27.11452216  129.65467566    3.49206112  -87.19399776   31.13746119\n",
      "  172.28646572  129.0661028   -18.6815018   -42.33466742 -101.7963271\n",
      "   16.47424495  -75.74733907   86.35539694  -31.25756353  -84.76601914\n",
      "   56.75374519   11.04551765  -58.88621495  -66.0302014    80.72607492\n",
      " -144.14218423  -29.87373663   35.74643719  -48.9546248    73.28487271\n",
      "  -17.98518825  -76.69874391 -115.10741552  -68.76214545   95.94345027\n",
      "  -93.75566408 -144.99626278 -149.5437345   -29.3088683  -119.46794356\n",
      "   -4.36712882  -22.19039655  -82.98190284   63.09710214  -16.35547106]\n"
     ]
    }
   ],
   "source": [
    "print('predicted response:', y_pred, sep='\\n')"
   ]
  },
  {
   "cell_type": "markdown",
   "metadata": {},
   "source": [
    "## Görselleştirme"
   ]
  },
  {
   "cell_type": "code",
   "execution_count": 25,
   "metadata": {},
   "outputs": [
    {
     "data": {
      "text/plain": [
       "<matplotlib.collections.PathCollection at 0x1478b41c0>"
      ]
     },
     "execution_count": 25,
     "metadata": {},
     "output_type": "execute_result"
    },
    {
     "data": {
      "image/png": "[encoded data removed]",
      "text/plain": [
       "<Figure size 432x288 with 1 Axes>"
      ]
     },
     "metadata": {
      "needs_background": "light"
     },
     "output_type": "display_data"
    }
   ],
   "source": [
    "plt.scatter(X_test, y_pred)"
   ]
  },
  {
   "cell_type": "markdown",
   "metadata": {},
   "source": [
    "## Maliyet Fonksiyonu\n",
    "\n",
    "Verilen veriler için bir Makine Öğrenimi modelinin performansını ölçen bir işlevdir. Maliyet Fonksiyonu, tahmin edilen değerler ile beklenen değerler arasındaki hatayı nicelendirir ve bunu tek bir gerçek sayı şeklinde sunar."
   ]
  },
  {
   "cell_type": "code",
   "execution_count": 7,
   "metadata": {},
   "outputs": [],
   "source": [
    "def mse(predictions, targets):\n",
    "    samples_num = len(predictions)\n",
    "    accumulated_error = 0.0\n",
    "    for prediction, target in zip(predictions, targets):\n",
    "        accumulated_error += (prediction - target)**2\n",
    "       \n",
    "    mae_error = (1.0 / (2*samples_num)) * accumulated_error\n",
    "    \n",
    "    return mae_error"
   ]
  },
  {
   "cell_type": "code",
   "execution_count": 8,
   "metadata": {},
   "outputs": [
    {
     "data": {
      "text/plain": [
       "5399.844699954652"
      ]
     },
     "execution_count": 8,
     "metadata": {},
     "output_type": "execute_result"
    }
   ],
   "source": [
    "mse(y_pred, y)"
   ]
  },
  {
   "cell_type": "code",
   "execution_count": 9,
   "metadata": {},
   "outputs": [],
   "source": [
    "from sklearn.metrics import mean_squared_error"
   ]
  },
  {
   "cell_type": "code",
   "execution_count": 10,
   "metadata": {},
   "outputs": [
    {
     "data": {
      "text/plain": [
       "10799.689399909304"
      ]
     },
     "execution_count": 10,
     "metadata": {},
     "output_type": "execute_result"
    }
   ],
   "source": [
    "mean_squared_error(y, y_pred)\n"
   ]
  },
  {
   "cell_type": "markdown",
   "metadata": {},
   "source": [
    "## 9.3 Lojistik Regresyon\n",
    "\n",
    "Lojistik regresyon, temel bir sınıflandırma tekniğidir. Doğrusal sınıflandırıcılar grubuna aittir ve biraz polinom ve doğrusal regresyona benzer. Lojistik regresyon hızlıdır ve nispeten karmaşık değildir ve sonuçları yorumlamanız sizin için uygundur. Esasen ikili sınıflandırma için bir yöntem olmasına rağmen, çok sınıflı problemlere de uygulanabilir.\n",
    "\n",
    "Lojistik regresyonun ne olduğunu ve nasıl çalıştığını anlamak için sigmoid işlevini ve doğal logaritma işlevini anlamanız gerekir.\n",
    "\n",
    "Bu görüntü, bazı değişken 𝑥'nin sigmoid fonksiyonunu (veya S-şekilli eğri) gösterir:\n",
    "\n",
    "![](assets/logistic-regression.jpeg)\n",
    "\n",
    "\n",
    "Sigmoid işlevi, etki alanının çoğunda 0 veya 1'e çok yakın değerlere sahiptir. Bu gerçek onu sınıflandırma yöntemlerinde uygulamaya uygun hale getirir."
   ]
  },
  {
   "cell_type": "markdown",
   "metadata": {},
   "source": [
    "## Tek Değişkenli Lojistik Regresyon\n",
    "\n",
    "Tek değişkenli lojistik regresyon, lojistik regresyonun en basit halidir. 𝐱 = 𝑥 olan tek bir bağımsız değişken (veya özellik) vardır. Bu şekil, tek değişkenli lojistik regresyonu göstermektedir:\n",
    "\n",
    "![](assets/logistic-regression2.jpg)\n",
    "\n",
    "Burada, yeşil dairelerle temsil edilen belirli bir girdi-çıktı (veya 𝑥-𝑦) çifti kümesine sahipsiniz. Bunlar sizin gözlemlerinizdir. Unutmayın ki, 𝑦 sadece 0 veya 1 olabilir. Örneğin, en soldaki yeşil dairenin girişi 𝑥 = 0 ve gerçek çıktı 𝑦 = 0'dır. En sağdaki gözlem 𝑥 = 9 ve 𝑦 = 1'dir.\n",
    "\n",
    "Lojistik regresyon, maksimum LLF'ye karşılık gelen 𝑏₀ ve 𝑏₁ ağırlıklarını bulur. Bu ağırlıklar, kesikli siyah çizgi olan 𝑓 (𝑥) = 𝑏₀ + 𝑏₁𝑥 logitini tanımlar. Ayrıca burada tam siyah çizgi olarak gösterilen tahmin edilen olasılığı define (𝑥) = 1 / (1 + exp (−𝑓 (𝑥))) tanımlarlar. Bu durumda, 𝑝 (𝑥) = 0,5 ve 𝑓 (𝑥) = 0 eşiği, 𝑥'nin 3'ten biraz daha büyük değerine karşılık gelir. Bu değer, tahmin edilen çıkışlar 0 ve 1 olan girişler arasındaki sınırdır."
   ]
  },
  {
   "cell_type": "markdown",
   "metadata": {},
   "source": [
    "## Python ile"
   ]
  },
  {
   "cell_type": "code",
   "execution_count": 12,
   "metadata": {},
   "outputs": [],
   "source": [
    "import matplotlib.pyplot as plt\n",
    "import numpy as np"
   ]
  },
  {
   "cell_type": "code",
   "execution_count": 13,
   "metadata": {},
   "outputs": [],
   "source": [
    "from sklearn.linear_model import LogisticRegression"
   ]
  },
  {
   "cell_type": "code",
   "execution_count": 14,
   "metadata": {},
   "outputs": [],
   "source": [
    "x = np.arange(10).reshape(-1, 1)\n",
    "y = np.array([0, 0, 0, 0, 1, 1, 1, 1, 1, 1])"
   ]
  },
  {
   "cell_type": "code",
   "execution_count": 15,
   "metadata": {},
   "outputs": [
    {
     "data": {
      "text/plain": [
       "LogisticRegression()"
      ]
     },
     "execution_count": 15,
     "metadata": {},
     "output_type": "execute_result"
    }
   ],
   "source": [
    "model = LogisticRegression()\n",
    "model.fit(x, y)"
   ]
  },
  {
   "cell_type": "code",
   "execution_count": 17,
   "metadata": {},
   "outputs": [
    {
     "name": "stdout",
     "output_type": "stream",
     "text": [
      "Classes:  [0 1]\n",
      "Intercept:  [-4.12617727]\n",
      "Coef:  [[1.18109091]]\n"
     ]
    }
   ],
   "source": [
    "print(\"Classes: \", model.classes_)\n",
    "print(\"Intercept: \",model.intercept_)\n",
    "print(\"Coef: \",model.coef_)"
   ]
  },
  {
   "cell_type": "code",
   "execution_count": 18,
   "metadata": {},
   "outputs": [
    {
     "name": "stdout",
     "output_type": "stream",
     "text": [
      "Probability:  [[0.98411203 0.01588797]\n",
      " [0.95003074 0.04996926]\n",
      " [0.85370936 0.14629064]\n",
      " [0.64173546 0.35826454]\n",
      " [0.35475873 0.64524127]\n",
      " [0.1443924  0.8556076 ]\n",
      " [0.04924876 0.95075124]\n",
      " [0.01565079 0.98434921]\n",
      " [0.00485659 0.99514341]\n",
      " [0.00149573 0.99850427]]\n"
     ]
    }
   ],
   "source": [
    "print(\"Probability: \",model.predict_proba(x))"
   ]
  },
  {
   "cell_type": "code",
   "execution_count": 19,
   "metadata": {},
   "outputs": [
    {
     "data": {
      "text/plain": [
       "array([0, 0, 0, 0, 1, 1, 1, 1, 1, 1])"
      ]
     },
     "execution_count": 19,
     "metadata": {},
     "output_type": "execute_result"
    }
   ],
   "source": [
    "model.predict(x)"
   ]
  },
  {
   "cell_type": "markdown",
   "metadata": {},
   "source": [
    "## Evaluate"
   ]
  },
  {
   "cell_type": "code",
   "execution_count": 22,
   "metadata": {},
   "outputs": [],
   "source": [
    "from sklearn.metrics import classification_report, confusion_matrix"
   ]
  },
  {
   "cell_type": "code",
   "execution_count": 23,
   "metadata": {},
   "outputs": [
    {
     "data": {
      "text/plain": [
       "array([[4, 0],\n",
       "       [0, 6]])"
      ]
     },
     "execution_count": 23,
     "metadata": {},
     "output_type": "execute_result"
    }
   ],
   "source": [
    "confusion_matrix(y, model.predict(x))"
   ]
  },
  {
   "cell_type": "code",
   "execution_count": 24,
   "metadata": {},
   "outputs": [],
   "source": [
    "import seaborn as sns"
   ]
  },
  {
   "cell_type": "code",
   "execution_count": 25,
   "metadata": {},
   "outputs": [
    {
     "data": {
      "text/plain": [
       "array([[4, 0],\n",
       "       [0, 6]])"
      ]
     },
     "execution_count": 25,
     "metadata": {},
     "output_type": "execute_result"
    }
   ],
   "source": [
    "cm = confusion_matrix(y, model.predict(x))\n",
    "cm"
   ]
  },
  {
   "cell_type": "code",
   "execution_count": 26,
   "metadata": {},
   "outputs": [
    {
     "data": {
      "text/plain": [
       "<AxesSubplot:>"
      ]
     },
     "execution_count": 26,
     "metadata": {},
     "output_type": "execute_result"
    },
    {
     "data": {
      "image/png": "[encoded data removed]",
      "text/plain": [
       "<Figure size 432x288 with 2 Axes>"
      ]
     },
     "metadata": {
      "needs_background": "light"
     },
     "output_type": "display_data"
    }
   ],
   "source": [
    "sns.heatmap(cm, annot=True)"
   ]
  },
  {
   "cell_type": "code",
   "execution_count": null,
   "metadata": {},
   "outputs": [],
   "source": []
  }
 ],
 "metadata": {
  "kernelspec": {
   "display_name": "Python 3",
   "language": "python",
   "name": "python3"
  },
  "language_info": {
   "codemirror_mode": {
    "name": "ipython",
    "version": 3
   },
   "file_extension": ".py",
   "mimetype": "text/x-python",
   "name": "python",
   "nbconvert_exporter": "python",
   "pygments_lexer": "ipython3",
   "version": "3.9.1"
  }
 },
 "nbformat": 4,
 "nbformat_minor": 4
}
